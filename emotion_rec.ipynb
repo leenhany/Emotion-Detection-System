{
 "cells": [
  {
   "cell_type": "code",
   "execution_count": null,
   "id": "8b52c5a7",
   "metadata": {},
   "outputs": [
    {
     "name": "stdout",
     "output_type": "stream",
     "text": [
      "Requirement already satisfied: deepface in c:\\users\\leenh\\anaconda3\\envs\\new\\lib\\site-packages (0.0.93)\n",
      "Requirement already satisfied: requests>=2.27.1 in c:\\users\\leenh\\anaconda3\\envs\\new\\lib\\site-packages (from deepface) (2.32.4)\n",
      "Requirement already satisfied: numpy>=1.14.0 in c:\\users\\leenh\\anaconda3\\envs\\new\\lib\\site-packages (from deepface) (2.1.3)\n",
      "Requirement already satisfied: pandas>=0.23.4 in c:\\users\\leenh\\anaconda3\\envs\\new\\lib\\site-packages (from deepface) (2.3.1)\n",
      "Requirement already satisfied: gdown>=3.10.1 in c:\\users\\leenh\\anaconda3\\envs\\new\\lib\\site-packages (from deepface) (5.2.0)\n",
      "Requirement already satisfied: tqdm>=4.30.0 in c:\\users\\leenh\\anaconda3\\envs\\new\\lib\\site-packages (from deepface) (4.67.1)\n",
      "Requirement already satisfied: Pillow>=5.2.0 in c:\\users\\leenh\\anaconda3\\envs\\new\\lib\\site-packages (from deepface) (11.3.0)\n",
      "Requirement already satisfied: opencv-python>=4.5.5.64 in c:\\users\\leenh\\anaconda3\\envs\\new\\lib\\site-packages (from deepface) (4.12.0.88)\n",
      "Requirement already satisfied: tensorflow>=1.9.0 in c:\\users\\leenh\\anaconda3\\envs\\new\\lib\\site-packages (from deepface) (2.19.0)\n",
      "Requirement already satisfied: keras>=2.2.0 in c:\\users\\leenh\\anaconda3\\envs\\new\\lib\\site-packages (from deepface) (3.10.0)\n",
      "Requirement already satisfied: Flask>=1.1.2 in c:\\users\\leenh\\anaconda3\\envs\\new\\lib\\site-packages (from deepface) (3.1.1)\n",
      "Requirement already satisfied: flask-cors>=4.0.1 in c:\\users\\leenh\\anaconda3\\envs\\new\\lib\\site-packages (from deepface) (6.0.1)\n",
      "Requirement already satisfied: mtcnn>=0.1.0 in c:\\users\\leenh\\anaconda3\\envs\\new\\lib\\site-packages (from deepface) (1.0.0)\n",
      "Requirement already satisfied: retina-face>=0.0.1 in c:\\users\\leenh\\anaconda3\\envs\\new\\lib\\site-packages (from deepface) (0.0.17)\n",
      "Requirement already satisfied: fire>=0.4.0 in c:\\users\\leenh\\anaconda3\\envs\\new\\lib\\site-packages (from deepface) (0.7.0)\n",
      "Requirement already satisfied: gunicorn>=20.1.0 in c:\\users\\leenh\\anaconda3\\envs\\new\\lib\\site-packages (from deepface) (23.0.0)\n",
      "Requirement already satisfied: termcolor in c:\\users\\leenh\\anaconda3\\envs\\new\\lib\\site-packages (from fire>=0.4.0->deepface) (3.1.0)\n",
      "Requirement already satisfied: blinker>=1.9.0 in c:\\users\\leenh\\anaconda3\\envs\\new\\lib\\site-packages (from Flask>=1.1.2->deepface) (1.9.0)\n",
      "Requirement already satisfied: click>=8.1.3 in c:\\users\\leenh\\anaconda3\\envs\\new\\lib\\site-packages (from Flask>=1.1.2->deepface) (8.2.1)\n",
      "Requirement already satisfied: itsdangerous>=2.2.0 in c:\\users\\leenh\\anaconda3\\envs\\new\\lib\\site-packages (from Flask>=1.1.2->deepface) (2.2.0)\n",
      "Requirement already satisfied: jinja2>=3.1.2 in c:\\users\\leenh\\anaconda3\\envs\\new\\lib\\site-packages (from Flask>=1.1.2->deepface) (3.1.6)\n",
      "Requirement already satisfied: markupsafe>=2.1.1 in c:\\users\\leenh\\anaconda3\\envs\\new\\lib\\site-packages (from Flask>=1.1.2->deepface) (3.0.2)\n",
      "Requirement already satisfied: werkzeug>=3.1.0 in c:\\users\\leenh\\anaconda3\\envs\\new\\lib\\site-packages (from Flask>=1.1.2->deepface) (3.1.3)\n",
      "Requirement already satisfied: colorama in c:\\users\\leenh\\anaconda3\\envs\\new\\lib\\site-packages (from click>=8.1.3->Flask>=1.1.2->deepface) (0.4.6)\n",
      "Requirement already satisfied: beautifulsoup4 in c:\\users\\leenh\\anaconda3\\envs\\new\\lib\\site-packages (from gdown>=3.10.1->deepface) (4.13.4)\n",
      "Requirement already satisfied: filelock in c:\\users\\leenh\\anaconda3\\envs\\new\\lib\\site-packages (from gdown>=3.10.1->deepface) (3.18.0)\n",
      "Requirement already satisfied: packaging in c:\\users\\leenh\\anaconda3\\envs\\new\\lib\\site-packages (from gunicorn>=20.1.0->deepface) (25.0)\n",
      "Requirement already satisfied: absl-py in c:\\users\\leenh\\anaconda3\\envs\\new\\lib\\site-packages (from keras>=2.2.0->deepface) (2.3.1)\n",
      "Requirement already satisfied: rich in c:\\users\\leenh\\anaconda3\\envs\\new\\lib\\site-packages (from keras>=2.2.0->deepface) (14.1.0)\n",
      "Requirement already satisfied: namex in c:\\users\\leenh\\anaconda3\\envs\\new\\lib\\site-packages (from keras>=2.2.0->deepface) (0.1.0)\n",
      "Requirement already satisfied: h5py in c:\\users\\leenh\\anaconda3\\envs\\new\\lib\\site-packages (from keras>=2.2.0->deepface) (3.14.0)\n",
      "Requirement already satisfied: optree in c:\\users\\leenh\\anaconda3\\envs\\new\\lib\\site-packages (from keras>=2.2.0->deepface) (0.17.0)\n",
      "Requirement already satisfied: ml-dtypes in c:\\users\\leenh\\anaconda3\\envs\\new\\lib\\site-packages (from keras>=2.2.0->deepface) (0.5.1)\n",
      "Requirement already satisfied: joblib>=1.4.2 in c:\\users\\leenh\\anaconda3\\envs\\new\\lib\\site-packages (from mtcnn>=0.1.0->deepface) (1.5.1)\n",
      "Requirement already satisfied: lz4>=4.3.3 in c:\\users\\leenh\\anaconda3\\envs\\new\\lib\\site-packages (from mtcnn>=0.1.0->deepface) (4.4.4)\n",
      "Requirement already satisfied: python-dateutil>=2.8.2 in c:\\users\\leenh\\anaconda3\\envs\\new\\lib\\site-packages (from pandas>=0.23.4->deepface) (2.9.0.post0)\n",
      "Requirement already satisfied: pytz>=2020.1 in c:\\users\\leenh\\anaconda3\\envs\\new\\lib\\site-packages (from pandas>=0.23.4->deepface) (2025.2)\n",
      "Requirement already satisfied: tzdata>=2022.7 in c:\\users\\leenh\\anaconda3\\envs\\new\\lib\\site-packages (from pandas>=0.23.4->deepface) (2025.2)\n",
      "Requirement already satisfied: six>=1.5 in c:\\users\\leenh\\anaconda3\\envs\\new\\lib\\site-packages (from python-dateutil>=2.8.2->pandas>=0.23.4->deepface) (1.17.0)\n",
      "Requirement already satisfied: charset_normalizer<4,>=2 in c:\\users\\leenh\\anaconda3\\envs\\new\\lib\\site-packages (from requests>=2.27.1->deepface) (3.4.2)\n",
      "Requirement already satisfied: idna<4,>=2.5 in c:\\users\\leenh\\anaconda3\\envs\\new\\lib\\site-packages (from requests>=2.27.1->deepface) (3.10)\n",
      "Requirement already satisfied: urllib3<3,>=1.21.1 in c:\\users\\leenh\\anaconda3\\envs\\new\\lib\\site-packages (from requests>=2.27.1->deepface) (2.5.0)\n",
      "Requirement already satisfied: certifi>=2017.4.17 in c:\\users\\leenh\\anaconda3\\envs\\new\\lib\\site-packages (from requests>=2.27.1->deepface) (2025.7.14)\n",
      "Requirement already satisfied: astunparse>=1.6.0 in c:\\users\\leenh\\anaconda3\\envs\\new\\lib\\site-packages (from tensorflow>=1.9.0->deepface) (1.6.3)\n",
      "Requirement already satisfied: flatbuffers>=24.3.25 in c:\\users\\leenh\\anaconda3\\envs\\new\\lib\\site-packages (from tensorflow>=1.9.0->deepface) (25.2.10)\n",
      "Requirement already satisfied: gast!=0.5.0,!=0.5.1,!=0.5.2,>=0.2.1 in c:\\users\\leenh\\anaconda3\\envs\\new\\lib\\site-packages (from tensorflow>=1.9.0->deepface) (0.6.0)\n",
      "Requirement already satisfied: google-pasta>=0.1.1 in c:\\users\\leenh\\anaconda3\\envs\\new\\lib\\site-packages (from tensorflow>=1.9.0->deepface) (0.2.0)\n",
      "Requirement already satisfied: libclang>=13.0.0 in c:\\users\\leenh\\anaconda3\\envs\\new\\lib\\site-packages (from tensorflow>=1.9.0->deepface) (18.1.1)\n",
      "Requirement already satisfied: opt-einsum>=2.3.2 in c:\\users\\leenh\\anaconda3\\envs\\new\\lib\\site-packages (from tensorflow>=1.9.0->deepface) (3.4.0)\n",
      "Requirement already satisfied: protobuf!=4.21.0,!=4.21.1,!=4.21.2,!=4.21.3,!=4.21.4,!=4.21.5,<6.0.0dev,>=3.20.3 in c:\\users\\leenh\\anaconda3\\envs\\new\\lib\\site-packages (from tensorflow>=1.9.0->deepface) (5.29.5)\n",
      "Requirement already satisfied: setuptools in c:\\users\\leenh\\anaconda3\\envs\\new\\lib\\site-packages (from tensorflow>=1.9.0->deepface) (78.1.1)\n",
      "Requirement already satisfied: typing-extensions>=3.6.6 in c:\\users\\leenh\\anaconda3\\envs\\new\\lib\\site-packages (from tensorflow>=1.9.0->deepface) (4.14.1)\n",
      "Requirement already satisfied: wrapt>=1.11.0 in c:\\users\\leenh\\anaconda3\\envs\\new\\lib\\site-packages (from tensorflow>=1.9.0->deepface) (1.17.2)\n",
      "Requirement already satisfied: grpcio<2.0,>=1.24.3 in c:\\users\\leenh\\anaconda3\\envs\\new\\lib\\site-packages (from tensorflow>=1.9.0->deepface) (1.74.0)\n",
      "Requirement already satisfied: tensorboard~=2.19.0 in c:\\users\\leenh\\anaconda3\\envs\\new\\lib\\site-packages (from tensorflow>=1.9.0->deepface) (2.19.0)\n",
      "Requirement already satisfied: markdown>=2.6.8 in c:\\users\\leenh\\anaconda3\\envs\\new\\lib\\site-packages (from tensorboard~=2.19.0->tensorflow>=1.9.0->deepface) (3.8.2)\n",
      "Requirement already satisfied: tensorboard-data-server<0.8.0,>=0.7.0 in c:\\users\\leenh\\anaconda3\\envs\\new\\lib\\site-packages (from tensorboard~=2.19.0->tensorflow>=1.9.0->deepface) (0.7.2)\n",
      "Requirement already satisfied: wheel<1.0,>=0.23.0 in c:\\users\\leenh\\anaconda3\\envs\\new\\lib\\site-packages (from astunparse>=1.6.0->tensorflow>=1.9.0->deepface) (0.45.1)\n",
      "Requirement already satisfied: soupsieve>1.2 in c:\\users\\leenh\\anaconda3\\envs\\new\\lib\\site-packages (from beautifulsoup4->gdown>=3.10.1->deepface) (2.7)\n",
      "Requirement already satisfied: PySocks!=1.5.7,>=1.5.6 in c:\\users\\leenh\\anaconda3\\envs\\new\\lib\\site-packages (from requests[socks]->gdown>=3.10.1->deepface) (1.7.1)\n",
      "Requirement already satisfied: markdown-it-py>=2.2.0 in c:\\users\\leenh\\anaconda3\\envs\\new\\lib\\site-packages (from rich->keras>=2.2.0->deepface) (3.0.0)\n",
      "Requirement already satisfied: pygments<3.0.0,>=2.13.0 in c:\\users\\leenh\\anaconda3\\envs\\new\\lib\\site-packages (from rich->keras>=2.2.0->deepface) (2.19.2)\n",
      "Requirement already satisfied: mdurl~=0.1 in c:\\users\\leenh\\anaconda3\\envs\\new\\lib\\site-packages (from markdown-it-py>=2.2.0->rich->keras>=2.2.0->deepface) (0.1.2)\n"
     ]
    }
   ],
   "source": [
    "! pip install deepface #detect(age,emotion,race,gender)"
   ]
  },
  {
   "cell_type": "code",
   "execution_count": null,
   "id": "27d25de3",
   "metadata": {},
   "outputs": [],
   "source": [
    "! pip install cv2\n",
    "! pip install streamlit\n",
    "! pip install PIL\n",
    "! pip install matplotlib\n",
    "! pip install numpy\n",
    "! pip install tempfile"
   ]
  },
  {
   "cell_type": "code",
   "execution_count": 5,
   "id": "a4f91432",
   "metadata": {},
   "outputs": [
    {
     "name": "stdout",
     "output_type": "stream",
     "text": [
      "Requirement already satisfied: opencv-python in c:\\users\\leenh\\anaconda3\\envs\\new\\lib\\site-packages (4.12.0.88)\n",
      "Requirement already satisfied: numpy<2.3.0,>=2 in c:\\users\\leenh\\anaconda3\\envs\\new\\lib\\site-packages (from opencv-python) (2.1.3)\n",
      "Requirement already satisfied: Pillow in c:\\users\\leenh\\anaconda3\\envs\\new\\lib\\site-packages (11.3.0)\n"
     ]
    }
   ],
   "source": [
    "! pip install opencv-python\n",
    "! pip install Pillow\n"
   ]
  },
  {
   "cell_type": "code",
   "execution_count": 12,
   "id": "0fb93868",
   "metadata": {},
   "outputs": [
    {
     "name": "stdout",
     "output_type": "stream",
     "text": [
      "Overwriting emotion_rec.py\n"
     ]
    }
   ],
   "source": [
    "%%writefile emotion_rec.py\n",
    "import cv2\n",
    "import streamlit as st\n",
    "from PIL import Image\n",
    "import matplotlib.pyplot as plt\n",
    "import numpy as np\n",
    "import tempfile\n",
    "from deepface import DeepFace\n",
    "import os\n",
    "\n",
    "## GUI Setup\n",
    "st.title(\"Emotion Recognition App\")\n",
    "st.write(\"Upload an image to recognize emotions.\")\n",
    "\n",
    "def analyize_emotion(img_vid):\n",
    "    try:\n",
    "        #this analysis on my img/video \n",
    "        analysis=DeepFace.analyze(img_vid, actions=['emotion'], enforce_detection=False)\n",
    "        return analysis[0]['emotion']\n",
    "    except ValueError as e:\n",
    "        st.error(f\"error: {e}\")\n",
    "        return None\n",
    "\n",
    "option=st.selectbox(\"Select Input Type\",(\"Image\",\"Video\"))\n",
    "##main function\n",
    "if option=='Image':\n",
    "    uploded_file=st.file_uploader(\"upload your iamge\",type=['jpg','jpeg','png'])\n",
    "    if uploded_file is not None:\n",
    "        img=Image.open(uploded_file)\n",
    "        img_arr=np.array(img)\n",
    "        st.image(img_arr,caption='Uploaded image')\n",
    "        emotion_scores=analyize_emotion(img_arr)\n",
    "        #emotion_scores--> {'angre'=0.1,'sad':0,6.....}\n",
    "        if emotion_scores:\n",
    "            detected_emotion=max(emotion_scores,key=emotion_scores.get)\n",
    "            st.write(f\"Detected Emotion: {detected_emotion}\")\n",
    "        else:\n",
    "            st.write(\"No emotion detected or an error occurred.\")\n",
    "\n",
    "if option=='Video':  \n",
    "    uploded_file=st.file_uploader(\"upload your video\",type=['mp4','avi','mov'])      \n",
    "    if uploded_file is not None:\n",
    "        with tempfile.NamedTemporaryFile(delete=False) as tfile:\n",
    "            # Save the uploaded file to a temporary file\n",
    "            tfile.write(uploded_file.read())\n",
    "            video_path=tfile.name\n",
    "        cap=cv2.VideoCapture(video_path)\n",
    "        stframe=st.empty()\n",
    "        \n",
    "\n",
    "        frame_count=0\n",
    "        freme_rate=100\n",
    "        while cap.isOpened():\n",
    "            ret,frame=cap.read()\n",
    "            if not ret:\n",
    "                break\n",
    "            frame_count+=1\n",
    "            if frame_count % freme_rate == 0:\n",
    "                frame_rgb=cv2.cvtColor(frame,cv2.COLOR_BGR2RGB)\n",
    "                emotion_scores=analyize_emotion(frame_rgb)\n",
    "                if emotion_scores:\n",
    "                    detected_emotion=max(emotion_scores,key=emotion_scores.get)\n",
    "                    cv2.putText(frame,detected_emotion,(50,50),cv2.FONT_HERSHEY_SIMPLEX,1,(0,255,0),2)\n",
    "                else:\n",
    "                    detected_emotion=\"No emotion detected\"\n",
    "                    cv2.putText(frame,\"No emotion detected\",(50,50),cv2.FONT_HERSHEY_SIMPLEX,1,(0,0,255),2)\n",
    "                stframe.image(frame,channels='BGR', caption=f\"Frame {frame_count} - {detected_emotion}\", use_column_width=True)\n",
    "        \n",
    "        cap.release()\n",
    "        st.write(\"Video processing complete.\")\n",
    "\n"
   ]
  },
  {
   "cell_type": "code",
   "execution_count": null,
   "id": "1898982d",
   "metadata": {},
   "outputs": [],
   "source": []
  }
 ],
 "metadata": {
  "kernelspec": {
   "display_name": "new",
   "language": "python",
   "name": "python3"
  },
  "language_info": {
   "codemirror_mode": {
    "name": "ipython",
    "version": 3
   },
   "file_extension": ".py",
   "mimetype": "text/x-python",
   "name": "python",
   "nbconvert_exporter": "python",
   "pygments_lexer": "ipython3",
   "version": "3.12.11"
  }
 },
 "nbformat": 4,
 "nbformat_minor": 5
}
